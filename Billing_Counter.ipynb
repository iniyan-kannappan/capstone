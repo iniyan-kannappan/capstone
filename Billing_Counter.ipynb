{
 "cells": [
  {
   "cell_type": "code",
   "execution_count": 67,
   "metadata": {},
   "outputs": [
    {
     "name": "stdout",
     "output_type": "stream",
     "text": [
      "What is the cost of the item: 10.73\n",
      "How much money have you gave: 20\n",
      "Your have a change of $9.27\n"
     ]
    }
   ],
   "source": [
    "import math\n",
    "\n",
    "cost=float(input('What is the cost of the item: '))\n",
    "money_given=float(input('How much money have you gave: '))\n",
    "change=money_given-cost\n",
    "print(f'Your have a change of ${change}')"
   ]
  },
  {
   "cell_type": "code",
   "execution_count": 68,
   "metadata": {},
   "outputs": [
    {
     "data": {
      "text/plain": [
       "{'Dollars': 9, 'Quarters': 1, 'Dimes': 0, 'Nickel': 0, 'Pennies': 2}"
      ]
     },
     "execution_count": 68,
     "metadata": {},
     "output_type": "execute_result"
    }
   ],
   "source": [
    "def denominator(change):\n",
    "    \n",
    "    dollars=int(change)\n",
    "    cents=int(round(change-dollars,2)*100)\n",
    "    \n",
    "    quarters=cents//25\n",
    "    \n",
    "    pennies=cents%25\n",
    "    \n",
    "    dimes=pennies//10\n",
    "        \n",
    "    pennies=pennies%10\n",
    "    \n",
    "    nickel=pennies//5\n",
    "    \n",
    "    pennies=pennies%5\n",
    "    \n",
    "    return {'Dollars':dollars,'Quarters':quarters,'Dimes':dimes,'Nickel':nickel,'Pennies':pennies}\n",
    "\n",
    "denominator(change)"
   ]
  }
 ],
 "metadata": {
  "kernelspec": {
   "display_name": "Python 3",
   "language": "python",
   "name": "python3"
  },
  "language_info": {
   "codemirror_mode": {
    "name": "ipython",
    "version": 3
   },
   "file_extension": ".py",
   "mimetype": "text/x-python",
   "name": "python",
   "nbconvert_exporter": "python",
   "pygments_lexer": "ipython3",
   "version": "3.6.8"
  }
 },
 "nbformat": 4,
 "nbformat_minor": 2
}
