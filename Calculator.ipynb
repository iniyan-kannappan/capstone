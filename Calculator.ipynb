{
 "cells": [
  {
   "cell_type": "code",
   "execution_count": 44,
   "metadata": {},
   "outputs": [],
   "source": [
    "def calculator(num1,exp,num2):\n",
    "    if exp=='+':\n",
    "        return num1+num2\n",
    "\n",
    "    elif exp=='-':\n",
    "        return num1-num2\n",
    "\n",
    "    elif exp=='*':\n",
    "        return num1*num2\n",
    "\n",
    "    elif exp=='/':\n",
    "        return num1/num2\n",
    "\n",
    "    elif exp=='%':\n",
    "        return (num1/num2)*100\n",
    "\n",
    "    elif exp=='**':\n",
    "        return num1**num2\n",
    "\n",
    "\n",
    "        "
   ]
  },
  {
   "cell_type": "code",
   "execution_count": 49,
   "metadata": {},
   "outputs": [
    {
     "data": {
      "text/plain": [
       "50.0"
      ]
     },
     "execution_count": 49,
     "metadata": {},
     "output_type": "execute_result"
    }
   ],
   "source": [
    "calculator(50,'%',100)"
   ]
  },
  {
   "cell_type": "code",
   "execution_count": 47,
   "metadata": {},
   "outputs": [
    {
     "data": {
      "text/plain": [
       "8"
      ]
     },
     "execution_count": 47,
     "metadata": {},
     "output_type": "execute_result"
    }
   ],
   "source": [
    "# calc1='5 + 3'\n",
    "calc1=input('Enter your numbers: ')\n",
    "spl_calc=calc1.split(' ')\n",
    "num1=int(spl_calc[0])\n",
    "exp=spl_calc[1]\n",
    "num2=int(spl_calc[2])\n",
    "calculator(num1,exp,num2)"
   ]
  },
  {
   "cell_type": "code",
   "execution_count": null,
   "metadata": {},
   "outputs": [],
   "source": []
  }
 ],
 "metadata": {
  "kernelspec": {
   "display_name": "Python 3",
   "language": "python",
   "name": "python3"
  },
  "language_info": {
   "codemirror_mode": {
    "name": "ipython",
    "version": 3
   },
   "file_extension": ".py",
   "mimetype": "text/x-python",
   "name": "python",
   "nbconvert_exporter": "python",
   "pygments_lexer": "ipython3",
   "version": "3.6.8"
  }
 },
 "nbformat": 4,
 "nbformat_minor": 2
}
