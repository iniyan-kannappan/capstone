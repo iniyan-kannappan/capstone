{
 "cells": [
  {
   "cell_type": "markdown",
   "metadata": {},
   "source": [
    "## Prime Factorization -\n",
    "Have the user enter a number and find all Prime Factors (if there are any) and display them."
   ]
  },
  {
   "cell_type": "code",
   "execution_count": 1,
   "metadata": {},
   "outputs": [],
   "source": [
    "def get_factors(x):\n",
    "    lis=[]\n",
    "    for i in range(2,x,1):\n",
    "        if x%i==0:\n",
    "            lis.append(i)\n",
    "    return lis"
   ]
  },
  {
   "cell_type": "code",
   "execution_count": 2,
   "metadata": {},
   "outputs": [
    {
     "data": {
      "text/plain": [
       "[2, 3, 4, 6]"
      ]
     },
     "execution_count": 2,
     "metadata": {},
     "output_type": "execute_result"
    }
   ],
   "source": [
    "get_factors(12)"
   ]
  },
  {
   "cell_type": "code",
   "execution_count": 3,
   "metadata": {},
   "outputs": [],
   "source": [
    "def is_prime(x):\n",
    "    factor_count=0\n",
    "    for i in range(2,x,1):\n",
    "        if x%i==0:\n",
    "            factor_count+=1\n",
    "    \n",
    "    return factor_count==0"
   ]
  },
  {
   "cell_type": "code",
   "execution_count": 4,
   "metadata": {},
   "outputs": [
    {
     "data": {
      "text/plain": [
       "True"
      ]
     },
     "execution_count": 4,
     "metadata": {},
     "output_type": "execute_result"
    }
   ],
   "source": [
    "is_prime(2)"
   ]
  },
  {
   "cell_type": "code",
   "execution_count": 5,
   "metadata": {},
   "outputs": [],
   "source": [
    "def get_prime_factors(n):\n",
    "    factors_list=[]\n",
    "    for i in get_factors(n):\n",
    "        if is_prime(i):\n",
    "            factors_list.append(i)\n",
    "    return factors_list"
   ]
  },
  {
   "cell_type": "code",
   "execution_count": 6,
   "metadata": {},
   "outputs": [
    {
     "data": {
      "text/plain": [
       "[2, 5]"
      ]
     },
     "execution_count": 6,
     "metadata": {},
     "output_type": "execute_result"
    }
   ],
   "source": [
    "get_prime_factors(20)"
   ]
  },
  {
   "cell_type": "markdown",
   "metadata": {},
   "source": [
    "## Next Prime Number -\n",
    "Have the program find prime numbers until the user chooses to stop asking for the next one."
   ]
  },
  {
   "cell_type": "code",
   "execution_count": 7,
   "metadata": {},
   "outputs": [],
   "source": [
    "def get_next_prime():\n",
    "    inp=''\n",
    "    num=2\n",
    "    while inp=='':\n",
    "        if is_prime(num):\n",
    "            print(num)\n",
    "            inp=input('If you want the next prime number, press enter. If you do not want the next prime number, type something.')\n",
    "        num+=1"
   ]
  },
  {
   "cell_type": "code",
   "execution_count": 8,
   "metadata": {},
   "outputs": [
    {
     "name": "stdout",
     "output_type": "stream",
     "text": [
      "2\n",
      "If you want the next prime number, press enter. If you do not want the next prime number, type something.\n",
      "3\n",
      "If you want the next prime number, press enter. If you do not want the next prime number, type something.NO\n"
     ]
    }
   ],
   "source": [
    "get_next_prime()"
   ]
  },
  {
   "cell_type": "markdown",
   "metadata": {},
   "source": [
    "## Mortgage Calculator -  \n",
    "Calculate the monthly payments of a fixed term mortgage over given Nth terms at a given interest rate. Also figure out how long it will take the user to pay back the loan"
   ]
  },
  {
   "cell_type": "code",
   "execution_count": 20,
   "metadata": {},
   "outputs": [],
   "source": [
    "def monthly_mortage(principle,interest_rate,num_of_years):\n",
    "    average_payment=principle/(num_of_years*12)\n",
    "    interest=0\n",
    "    month_payment=0\n",
    "    payment=0\n",
    "\n",
    "    for i in range(0,120,1):\n",
    "        interest=(principle/120)*num_of_years*interest_rate\n",
    "        principle=principle-average_payment\n",
    "        month_payment=average_payment+interest\n",
    "        payment+=round(month_payment)\n",
    "    payment=round(payment)//120\n",
    "    return payment"
   ]
  },
  {
   "cell_type": "code",
   "execution_count": 22,
   "metadata": {},
   "outputs": [
    {
     "name": "stdout",
     "output_type": "stream",
     "text": [
      "How much is your loan value: 800000\n",
      "How many years is your loan period: 30\n",
      "Your Average Monthly Mortage is $ 8900\n"
     ]
    }
   ],
   "source": [
    "while True:\n",
    "    try:\n",
    "        principle=int(input('How much is your loan value: '))\n",
    "        num_of_years=int(input('How many years is your loan period: '))    \n",
    "    except:\n",
    "        print('Please print a integar.')\n",
    "    else:\n",
    "        break\n",
    "\n",
    "print('Your Average Monthly Mortage is $',monthly_mortage(principle,4/100,num_of_years))"
   ]
  },
  {
   "cell_type": "markdown",
   "metadata": {},
   "source": [
    "## Binary and Decimal Converter"
   ]
  },
  {
   "cell_type": "code",
   "execution_count": 10,
   "metadata": {},
   "outputs": [],
   "source": [
    "def decimal_to_binary(decimal):\n",
    "    remainder=0\n",
    "    binary_num=[]\n",
    "    while decimal!=1:\n",
    "        remainder=decimal%2\n",
    "        binary_num.insert(0,remainder)\n",
    "        decimal=decimal//2\n",
    "    binary_num.insert(0,1)\n",
    "    return binary_num"
   ]
  },
  {
   "cell_type": "code",
   "execution_count": 13,
   "metadata": {},
   "outputs": [
    {
     "data": {
      "text/plain": [
       "[1, 0, 0, 0, 0, 1, 0, 1]"
      ]
     },
     "execution_count": 13,
     "metadata": {},
     "output_type": "execute_result"
    }
   ],
   "source": [
    "decimal_to_binary(133)"
   ]
  },
  {
   "cell_type": "code",
   "execution_count": 27,
   "metadata": {},
   "outputs": [],
   "source": [
    "def binary_to_decimal(binary):\n",
    "    decimal=0\n",
    "    inde=-1\n",
    "    algo=0\n",
    "    for i in range(0,len(binary),1):\n",
    "        algo=(2**i)*(int(binary[inde]))\n",
    "        decimal+=algo\n",
    "        inde-=1\n",
    "    return decimal"
   ]
  },
  {
   "cell_type": "code",
   "execution_count": 30,
   "metadata": {},
   "outputs": [
    {
     "data": {
      "text/plain": [
       "12"
      ]
     },
     "execution_count": 30,
     "metadata": {},
     "output_type": "execute_result"
    }
   ],
   "source": [
    "binary_to_decimal('1100')"
   ]
  }
 ],
 "metadata": {
  "kernelspec": {
   "display_name": "Python 3",
   "language": "python",
   "name": "python3"
  },
  "language_info": {
   "codemirror_mode": {
    "name": "ipython",
    "version": 3
   },
   "file_extension": ".py",
   "mimetype": "text/x-python",
   "name": "python",
   "nbconvert_exporter": "python",
   "pygments_lexer": "ipython3",
   "version": "3.6.8"
  }
 },
 "nbformat": 4,
 "nbformat_minor": 2
}
